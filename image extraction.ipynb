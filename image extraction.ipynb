{
 "cells": [
  {
   "cell_type": "markdown",
   "id": "05014280-7cb3-4655-ba34-421a118f58f9",
   "metadata": {
    "jp-MarkdownHeadingCollapsed": true
   },
   "source": [
    "## Basic"
   ]
  },
  {
   "cell_type": "code",
   "execution_count": 2,
   "id": "50387fd0-e5fe-4cc1-84aa-6464564bb6b5",
   "metadata": {},
   "outputs": [],
   "source": [
    "import os\n",
    "import cv2\n",
    "import hashlib\n",
    "from collections import defaultdict"
   ]
  },
  {
   "cell_type": "code",
   "execution_count": 3,
   "id": "a8654367-ccf2-4a65-9478-8a4ec7fba5ee",
   "metadata": {},
   "outputs": [],
   "source": [
    "# Function to calculate the hash of an image\n",
    "def dhash(image, hash_size=8):\n",
    "    resized = cv2.resize(image, (hash_size + 1, hash_size))\n",
    "    diff = resized[:, 1:] > resized[:, :-1]\n",
    "    return sum([2 ** i for (i, v) in enumerate(diff.flatten()) if v])"
   ]
  },
  {
   "cell_type": "code",
   "execution_count": 4,
   "id": "67775b10-cbc9-45de-b974-5acb0f9165eb",
   "metadata": {},
   "outputs": [],
   "source": [
    "# Define the input folder containing the images\n",
    "input_folder = 'pics'\n",
    "output_folder = 'isolated items'"
   ]
  },
  {
   "cell_type": "markdown",
   "id": "38a51540-10c2-4b25-ae4f-98482467ae2a",
   "metadata": {},
   "source": [
    "## Unique Object Detection"
   ]
  },
  {
   "cell_type": "code",
   "execution_count": 10,
   "id": "67942308-e679-4552-af84-802d12577594",
   "metadata": {},
   "outputs": [
    {
     "ename": "error",
     "evalue": "OpenCV(4.8.0) /Users/xperience/GHA-OpenCV-Python/_work/opencv-python/opencv-python/opencv/modules/dnn/src/darknet/darknet_importer.cpp:210: error: (-212:Parsing error) Failed to open NetParameter file: yolov3.cfg in function 'readNetFromDarknet'\n",
     "output_type": "error",
     "traceback": [
      "\u001b[0;31m---------------------------------------------------------------------------\u001b[0m",
      "\u001b[0;31merror\u001b[0m                                     Traceback (most recent call last)",
      "Cell \u001b[0;32mIn[10], line 1\u001b[0m\n\u001b[0;32m----> 1\u001b[0m yolo_net \u001b[38;5;241m=\u001b[39m \u001b[43mcv2\u001b[49m\u001b[38;5;241;43m.\u001b[39;49m\u001b[43mdnn\u001b[49m\u001b[38;5;241;43m.\u001b[39;49m\u001b[43mreadNet\u001b[49m\u001b[43m(\u001b[49m\u001b[38;5;124;43m\"\u001b[39;49m\u001b[38;5;124;43myolov3.weights\u001b[39;49m\u001b[38;5;124;43m\"\u001b[39;49m\u001b[43m,\u001b[49m\u001b[43m \u001b[49m\u001b[38;5;124;43m\"\u001b[39;49m\u001b[38;5;124;43myolov3.cfg\u001b[39;49m\u001b[38;5;124;43m\"\u001b[39;49m\u001b[43m)\u001b[49m\n\u001b[1;32m      2\u001b[0m layer_names \u001b[38;5;241m=\u001b[39m yolo_net\u001b[38;5;241m.\u001b[39mgetLayerNames()\n\u001b[1;32m      3\u001b[0m output_layers \u001b[38;5;241m=\u001b[39m [layer_names[i[\u001b[38;5;241m0\u001b[39m] \u001b[38;5;241m-\u001b[39m \u001b[38;5;241m1\u001b[39m] \u001b[38;5;28;01mfor\u001b[39;00m i \u001b[38;5;129;01min\u001b[39;00m yolo_net\u001b[38;5;241m.\u001b[39mgetUnconnectedOutLayers()]\n",
      "\u001b[0;31merror\u001b[0m: OpenCV(4.8.0) /Users/xperience/GHA-OpenCV-Python/_work/opencv-python/opencv-python/opencv/modules/dnn/src/darknet/darknet_importer.cpp:210: error: (-212:Parsing error) Failed to open NetParameter file: yolov3.cfg in function 'readNetFromDarknet'\n"
     ]
    }
   ],
   "source": [
    "yolo_net = cv2.dnn.readNet(\"yolov3.weights\", \"yolov3.cfg\")\n",
    "layer_names = yolo_net.getLayerNames()\n",
    "output_layers = [layer_names[i[0] - 1] for i in yolo_net.getUnconnectedOutLayers()]"
   ]
  },
  {
   "cell_type": "code",
   "execution_count": 9,
   "id": "e17a9e9b-9575-4f9b-be89-bf2e8eae8b6b",
   "metadata": {},
   "outputs": [],
   "source": [
    "def detect_objects(image):\n",
    "    height, width, channels = image.shape\n",
    "    blob = cv2.dnn.blobFromImage(image, 0.00392, (416, 416), (0, 0, 0), True, crop=False)\n",
    "    yolo_net.setInput(blob)\n",
    "    outs = yolo_net.forward(output_layers)\n",
    "\n",
    "    class_ids = []\n",
    "    confidences = []\n",
    "    boxes = []\n",
    "    \n",
    "    for out in outs:\n",
    "        for detection in out:\n",
    "            scores = detection[5:]\n",
    "            class_id = np.argmax(scores)\n",
    "            confidence = scores[class_id]\n",
    "            if confidence > 0.5:  # Adjust confidence threshold as needed\n",
    "                center_x = int(detection[0] * width)\n",
    "                center_y = int(detection[1] * height)\n",
    "                w = int(detection[2] * width)\n",
    "                h = int(detection[3] * height)\n",
    "                x = int(center_x - w / 2)\n",
    "                y = int(center_y - h / 2)\n",
    "                class_ids.append(class_id)\n",
    "                confidences.append(float(confidence))\n",
    "                boxes.append([x, y, w, h])\n",
    "\n",
    "    return class_ids, confidences, boxes"
   ]
  },
  {
   "cell_type": "code",
   "execution_count": 5,
   "id": "cd70f255-250e-4655-85aa-8093cc20369c",
   "metadata": {},
   "outputs": [],
   "source": [
    "# Dictionary to store unique images based on their hash\n",
    "unique_images = defaultdict(list)\n",
    "\n",
    "# Iterate through the images in the input folder\n",
    "for filename in os.listdir(input_folder):\n",
    "    if filename.endswith(('.jpg', '.jpeg', '.png', '.bmp')):\n",
    "        img_path = os.path.join(input_folder, filename)\n",
    "        image = cv2.imread(img_path)\n",
    "        class_ids, _, _ = detect_objects(image)\n",
    "\n",
    "        # Convert class IDs to a hash to represent unique objects in the image\n",
    "        obj_hash = hashlib.md5(str(class_ids).encode()).hexdigest()\n",
    "\n",
    "        # Add the image to the dictionary with its hash as the key\n",
    "        unique_objects[obj_hash].append(img_path)"
   ]
  },
  {
   "cell_type": "code",
   "execution_count": 6,
   "id": "38d29355-03b5-460d-a2ad-ca7294f228a5",
   "metadata": {},
   "outputs": [
    {
     "name": "stdout",
     "output_type": "stream",
     "text": [
      "Unique image saved: isolated items/food.png\n"
     ]
    }
   ],
   "source": [
    "# Iterate through the dictionary and save unique images\n",
    "for obj_hash, image_paths in unique_objects.items():\n",
    "    if len(image_paths) == 1:\n",
    "        img_path = image_paths[0]\n",
    "        filename = os.path.basename(img_path)\n",
    "        output_path = os.path.join(output_folder, filename)\n",
    "        os.rename(img_path, output_path)\n",
    "        print(f\"Unique object image saved: {output_path}\")"
   ]
  },
  {
   "cell_type": "code",
   "execution_count": null,
   "id": "3ccb17a1-1b92-45f7-b55d-4fbdac0a9fc8",
   "metadata": {},
   "outputs": [],
   "source": []
  }
 ],
 "metadata": {
  "kernelspec": {
   "display_name": "Python 3 (ipykernel)",
   "language": "python",
   "name": "python3"
  },
  "language_info": {
   "codemirror_mode": {
    "name": "ipython",
    "version": 3
   },
   "file_extension": ".py",
   "mimetype": "text/x-python",
   "name": "python",
   "nbconvert_exporter": "python",
   "pygments_lexer": "ipython3",
   "version": "3.11.5"
  }
 },
 "nbformat": 4,
 "nbformat_minor": 5
}
